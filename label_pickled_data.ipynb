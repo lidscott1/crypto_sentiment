{
 "cells": [
  {
   "cell_type": "code",
   "execution_count": 31,
   "metadata": {
    "collapsed": true
   },
   "outputs": [],
   "source": [
    "\"\"\"This class converts a dict to nested objects\"\"\"\n",
    "\n",
    "class Struct(object):\n",
    "    \"\"\"\n",
    "    Attributes will depend on the structure of object. \n",
    "    If we keep calling the 'everything' newsapi, then the attributes will be:\n",
    "    \n",
    "                    articles: A list of articles, each with their own objects\n",
    "                    status: Status of request, should be 'ok'\n",
    "                    totalResults: The total number of results available for the request, will need\n",
    "                                  to use the &page= parameter to get these as only 20 articles are\n",
    "                                  returned per request.\n",
    "                                  \n",
    "    Resource: https://stackoverflow.com/questions/1305532/convert-python-dict-to-object\n",
    "    \"\"\"\n",
    "    def __init__(self, data):\n",
    "        for name, value in data.items():\n",
    "            setattr(self, name, self._wrap(value))\n",
    "\n",
    "    def _wrap(self, value):\n",
    "        if isinstance(value, (tuple, list, set, frozenset)): \n",
    "            return type(value)([self._wrap(v) for v in value])\n",
    "        else:\n",
    "            return Struct(value) if isinstance(value, dict) else value\n",
    "        \n",
    "    def __repr__(self):\n",
    "        \n",
    "        return str(\"Title: \" + self.__dict__['title'] + \"\\n\" \"Description: \" + self.__dict__['description'])\n",
    "    \n",
    "    def updateSentiment(self, sent_value):\n",
    "        \n",
    "        self.sentiment = sent_value\n",
    "        \n",
    "    def __add__(self, other):\n",
    "        \n",
    "        return self.sentiment + other.sentiment\n",
    "\n",
    "\n",
    "\"\"\"\n",
    "General class to aggregate all useful objects. \n",
    "Could customize, e.g. change structure of get_raw_data to affect data object\n",
    "\"\"\"\n",
    "\n",
    "class myclass(object):\n",
    "    \"\"\"\n",
    "    Attributes:\n",
    "                call: The url sent to newsapi\n",
    "                raw_data: The dictionary returned when requesting call\n",
    "    \"\"\"\n",
    "    \n",
    "    def get_raw_data(self,call):\n",
    "        r = requests.get(call).json()\n",
    "        \n",
    "        for i in r['articles']:\n",
    "            del i['author']\n",
    "            del i['urlToImage']\n",
    "            t = datetime.datetime.strptime(i['publishedAt'], \"%Y-%m-%dT%H:%M:%S%fZ\")\n",
    "            nt = t.replace(hour=0, minute=0, second=0, microsecond=0)\n",
    "            i['publishedAt'] = str(nt)\n",
    "            i['source'] = i['source']['name']\n",
    "        \n",
    "        return r\n",
    "    \n",
    "    def __init__(self,call):\n",
    "        self.call = call\n",
    "        self.data = Struct(self.get_raw_data(call))\n",
    "        self.data.n_pages = self.data.totalResults/20\n",
    "        \n",
    "    \"\"\"\n",
    "    Takes call and paginates over user input number of pages to provide a list of \n",
    "    lists made up of articles\n",
    "    \"\"\"\n",
    "        \n",
    "    def paginate(self,n):\n",
    "        #If page argument already exists in call, remove it\n",
    "        fp = self.call.find('&page=')\n",
    "        if fp > 0:\n",
    "            l = [x for x, v in enumerate(self.call) if v == '&']\n",
    "            l.append(len(self.call))\n",
    "            nxt = l[next(x[0] for x in enumerate(l) if x[1] > fp)]\n",
    "            base_call = self.call[:fp] + self.call[nxt:]\n",
    "        else:\n",
    "            base_call = self.call\n",
    "            \n",
    "        #print(base_call)\n",
    "        articles_list = []\n",
    "        \n",
    "        for i in range(1,n+1):\n",
    "            new_call = base_call + \"&page=\" + str(i)\n",
    "            #print(new_call)\n",
    "            d = Struct(self.get_raw_data(new_call))\n",
    "            #print(d.articles[0].__dict__)\n",
    "            articles_list.extend(d.articles)\n",
    "            \n",
    "        return articles_list\n"
   ]
  },
  {
   "cell_type": "code",
   "execution_count": 32,
   "metadata": {
    "collapsed": false,
    "scrolled": true
   },
   "outputs": [],
   "source": [
    "import pickle\n",
    "PIK = \"2018-01-01_2018-01-10.dat\"\n",
    "\n",
    "with open(PIK, \"rb\") as f:\n",
    "    data = pickle.load(f)"
   ]
  },
  {
   "cell_type": "code",
   "execution_count": 3,
   "metadata": {
    "collapsed": false,
    "scrolled": true
   },
   "outputs": [
    {
     "data": {
      "text/plain": [
       "5300"
      ]
     },
     "execution_count": 3,
     "metadata": {},
     "output_type": "execute_result"
    }
   ],
   "source": [
    "len(data)"
   ]
  },
  {
   "cell_type": "code",
   "execution_count": 39,
   "metadata": {
    "collapsed": false
   },
   "outputs": [
    {
     "data": {
      "text/plain": [
       "Title: Find All the Mac and iOS Apps That Support Dark Mode\n",
       "Description: Photo by Vince Reinhart Dark Mode, a feature that replaces your usual black-on-white display with white-on-black, is easier on the eyes and makes you feel like you own bitcoin. The site Dark Mode List lists macOS apps, iOS apps, and websites that support the …"
      ]
     },
     "execution_count": 39,
     "metadata": {},
     "output_type": "execute_result"
    }
   ],
   "source": [
    "data[0]"
   ]
  },
  {
   "cell_type": "code",
   "execution_count": 37,
   "metadata": {
    "collapsed": false
   },
   "outputs": [],
   "source": [
    "data[0].updateSentiment(1)\n",
    "data[1].updateSentiment(0.5)"
   ]
  },
  {
   "cell_type": "code",
   "execution_count": 38,
   "metadata": {
    "collapsed": false
   },
   "outputs": [
    {
     "data": {
      "text/plain": [
       "1.5"
      ]
     },
     "execution_count": 38,
     "metadata": {},
     "output_type": "execute_result"
    }
   ],
   "source": [
    "data[0] + data[1]\n"
   ]
  },
  {
   "cell_type": "code",
   "execution_count": 12,
   "metadata": {
    "collapsed": false
   },
   "outputs": [],
   "source": [
    "def manually_classify(l):\n",
    "    print('Enter the polarity for the diplayed title and description, p for postive, n, for negative, nn for neutral.')\n",
    "    print('Enter \"stop\" if you wish to stop. \\n')\n",
    "    for i in range(0,len(l)):\n",
    "        print(\"\\n\")\n",
    "        print(l[i].title)\n",
    "        print(l[i].description)\n",
    "        print(\"\\n\")\n",
    "        while True:\n",
    "            p = input('What is the polarity of this article? ')\n",
    "            if p not in ('p', 'n', 'nn', 'stop'):\n",
    "                print(\"\\n\")\n",
    "                print(\"Not a valid response, please try again.\")\n",
    "            else:\n",
    "                break\n",
    "                \n",
    "        if p == 'stop':\n",
    "            break\n",
    "        else:\n",
    "            l[i].polarity = p\n"
   ]
  },
  {
   "cell_type": "code",
   "execution_count": 13,
   "metadata": {
    "collapsed": false
   },
   "outputs": [
    {
     "name": "stdout",
     "output_type": "stream",
     "text": [
      "Enter the polarity for the diplayed title and description, p for postive, n, for negative, nn for neutral.\n",
      "Enter \"stop\" if you wish to stop. \n",
      "\n",
      "\n",
      "\n",
      "Find All the Mac and iOS Apps That Support Dark Mode\n",
      "Photo by Vince Reinhart Dark Mode, a feature that replaces your usual black-on-white display with white-on-black, is easier on the eyes and makes you feel like you own bitcoin. The site Dark Mode List lists macOS apps, iOS apps, and websites that support the …\n",
      "\n",
      "\n",
      "What is the polarity of this article? p\n",
      "\n",
      "\n",
      "Why Kodak's Bitcoin Scheme Is a Scam You Should Avoid\n",
      "Just like your friend from college who won’t stop posting about it on Facebook, Kodak is really into cryptocurrencies. During CES 2018, the company announced a two-pronged blockchain strategy: 1) its own cryptocurrency called KodakCoin designed to improve ima…\n",
      "\n",
      "\n",
      "What is the polarity of this article? n\n",
      "\n",
      "\n",
      "What to Know About the Major Cryptocurrencies Besides Bitcoin\n",
      "2017 was the year that cryptocurrency finally went mainstream as Bitcoin ’s value soared from under $1,000 to nearly $20,000, and it doesn’t look like things will slow down in 2018. Read more...\n",
      "\n",
      "\n",
      "What is the polarity of this article? nn\n",
      "\n",
      "\n",
      "Everything Your Google Home Can Do Is Now Listed on One Incredibly Useful Website\n",
      "If you picked up a Google Home over the holidays you may be wondering what it’s good for besides checking the weather and playing music. Google’s smart speakers may not boast as many third-party skills as Amazon’s Alexa, but there’s still a ton you can do. Re…\n",
      "\n",
      "\n",
      "What is the polarity of this article? nn\n",
      "\n",
      "\n",
      "Clean Out Your Instapaper Reading List Today\n",
      "I’m a big Instapaper hoarder. I once racked up an unread list of over 500 articles, essays, stories, and other short-form pieces (plus a couple novels) in that app. I was never going to read everything I’d saved. It was time to clean out my Instapaper. And if…\n",
      "\n",
      "\n",
      "What is the polarity of this article? nn\n",
      "\n",
      "\n",
      "Sweatcoin is a Digital Currency You Earn For Working Out\n",
      "If one of your New Year’s resolutions is to get out of the house and move a little more, a mobile app called Sweatcoin might help give you the incentive you need to get off the couch for a few more minutes each day. Read more...\n",
      "\n",
      "\n",
      "What is the polarity of this article? nn\n",
      "\n",
      "\n",
      "China reportedly wants to curtail wasteful bitcoin mining\n",
      "China is reportedly seeking an \"orderly exit\" from bitcoin mining, according to a leaked document seen by Quartz. The nation's internet finance regulator is asking local governments to strongly encourage firms to quit the business by jacking up power prices a…\n",
      "\n",
      "\n",
      "What is the polarity of this article? n\n",
      "\n",
      "\n",
      "Kodak is jumping on the cryptocurrency bandwagon\n",
      "Kodak's big film revival isn't working out as well as planned, which leaves it in a tough spot. How is it going to spark interest and raise a ton of cash in a hurry? Easy -- hop on the cryptocurrency bandwagon. The former legend has partnered with Wenn Digita…\n",
      "\n",
      "\n",
      "What is the polarity of this article? stop\n"
     ]
    }
   ],
   "source": [
    "manually_classify(data)"
   ]
  },
  {
   "cell_type": "code",
   "execution_count": 19,
   "metadata": {
    "collapsed": false
   },
   "outputs": [],
   "source": [
    "fil = []\n",
    "for i in range(0,len(data)):\n",
    "    fil.append(hasattr(data[i],'polarity'))"
   ]
  },
  {
   "cell_type": "code",
   "execution_count": 20,
   "metadata": {
    "collapsed": false
   },
   "outputs": [
    {
     "data": {
      "text/plain": [
       "7"
      ]
     },
     "execution_count": 20,
     "metadata": {},
     "output_type": "execute_result"
    }
   ],
   "source": [
    "sum(fil)"
   ]
  },
  {
   "cell_type": "code",
   "execution_count": 21,
   "metadata": {
    "collapsed": true
   },
   "outputs": [],
   "source": [
    "from itertools import compress\n",
    "labeled_data = list(compress(data, fil))"
   ]
  },
  {
   "cell_type": "code",
   "execution_count": 24,
   "metadata": {
    "collapsed": false
   },
   "outputs": [],
   "source": [
    "t = [x for x in labeled_data if x.polarity != 'nn']"
   ]
  },
  {
   "cell_type": "code",
   "execution_count": 25,
   "metadata": {
    "collapsed": false,
    "scrolled": true
   },
   "outputs": [
    {
     "data": {
      "text/plain": [
       "[<__main__.Struct at 0x7f05b41ea630>,\n",
       " <__main__.Struct at 0x7f05ad607908>,\n",
       " <__main__.Struct at 0x7f05ad6079e8>]"
      ]
     },
     "execution_count": 25,
     "metadata": {},
     "output_type": "execute_result"
    }
   ],
   "source": [
    "t"
   ]
  }
 ],
 "metadata": {
  "kernelspec": {
   "display_name": "Python 3",
   "language": "python",
   "name": "python3"
  },
  "language_info": {
   "codemirror_mode": {
    "name": "ipython",
    "version": 3
   },
   "file_extension": ".py",
   "mimetype": "text/x-python",
   "name": "python",
   "nbconvert_exporter": "python",
   "pygments_lexer": "ipython3",
   "version": "3.5.2"
  }
 },
 "nbformat": 4,
 "nbformat_minor": 2
}
