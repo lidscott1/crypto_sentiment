{
 "cells": [
  {
   "cell_type": "code",
   "execution_count": 1,
   "metadata": {
    "collapsed": true
   },
   "outputs": [],
   "source": [
    "import requests\n",
    "import datetime"
   ]
  },
  {
   "cell_type": "code",
   "execution_count": 14,
   "metadata": {
    "collapsed": false
   },
   "outputs": [],
   "source": [
    "\"\"\"This class converts a dict to nested objects\"\"\"\n",
    "\n",
    "class Struct(object):\n",
    "    \"\"\"\n",
    "    Attributes will depend on the structure of object.\n",
    "    If we keep calling the 'everything' newsapi, then the attributes will be:\n",
    "    \n",
    "                    articles: A list of articles, each with their own objects\n",
    "                    status: Status of request, should be 'ok'\n",
    "                    totalResults: The total number of results available for the request, will need\n",
    "                                  to use the &page= parameter to get these as only 20 articles are\n",
    "                                  returned per request.\n",
    "                                  \n",
    "    Resource: https://stackoverflow.com/questions/1305532/convert-python-dict-to-object\n",
    "    \"\"\"\n",
    "    def __init__(self, data):\n",
    "        for name, value in data.items():\n",
    "            setattr(self, name, self._wrap(value))\n",
    "\n",
    "    def _wrap(self, value):\n",
    "        if isinstance(value, (tuple, list, set, frozenset)): \n",
    "            return type(value)([self._wrap(v) for v in value])\n",
    "        else:\n",
    "            return Struct(value) if isinstance(value, dict) else value\n",
    "\n",
    "\n",
    "\"\"\"\n",
    "General class to aggregate all useful objects. Could customize, e.g. change structure of raw_data\n",
    "to affect data pbject\n",
    "\"\"\"\n",
    "class myclass(object):\n",
    "    \"\"\"\n",
    "    Attributes:\n",
    "                call: The url sent to newsapi\n",
    "                raw_data: The dictionary returned when requesting call\n",
    "    \n",
    "    Resource: https://stackoverflow.com/questions/1305532/convert-python-dict-to-object\n",
    "    \"\"\"\n",
    "    \n",
    "    def get_raw_data(self,call):\n",
    "        r = requests.get(self.call).json()\n",
    "        \n",
    "        for i in r['articles']:\n",
    "            del i['author']\n",
    "            del i['urlToImage']\n",
    "            t = datetime.datetime.strptime(i['publishedAt'], \"%Y-%m-%dT%H:%M:%S%fZ\")\n",
    "            nt = t.replace(hour=0, minute=0, second=0, microsecond=0)\n",
    "            i['publishedAt'] = str(nt)\n",
    "            i['source'] = i['source']['name']\n",
    "        \n",
    "        return r\n",
    "    \n",
    "    def __init__(self,call):\n",
    "        self.call = call\n",
    "        self.data = Struct(self.get_raw_data(call))\n",
    "        self.data.n_pages = int(self.data.totalResults/20)\n"
   ]
  },
  {
   "cell_type": "code",
   "execution_count": 15,
   "metadata": {
    "collapsed": false
   },
   "outputs": [],
   "source": [
    "n =  myclass('https://newsapi.org/v2/everything?q=(BTC OR bitcoin)&from=2018-01-11&to=2018-01-13&language=en&sortBy=popularity&page=20&apiKey=6d00cdefd3bc4ee38f8a7af69ac5bec4')"
   ]
  },
  {
   "cell_type": "code",
   "execution_count": 16,
   "metadata": {
    "collapsed": false,
    "scrolled": true
   },
   "outputs": [
    {
     "data": {
      "text/plain": [
       "{'call': 'https://newsapi.org/v2/everything?q=(BTC OR bitcoin)&from=2018-01-11&to=2018-01-13&language=en&sortBy=popularity&page=20&apiKey=6d00cdefd3bc4ee38f8a7af69ac5bec4',\n",
       " 'data': <__main__.Struct at 0x7f9d2c061e48>}"
      ]
     },
     "execution_count": 16,
     "metadata": {},
     "output_type": "execute_result"
    }
   ],
   "source": [
    "n.__dict__"
   ]
  },
  {
   "cell_type": "code",
   "execution_count": 17,
   "metadata": {
    "collapsed": false
   },
   "outputs": [
    {
     "data": {
      "text/plain": [
       "{'articles': [<__main__.Struct at 0x7f9d2c076128>,\n",
       "  <__main__.Struct at 0x7f9d2c076748>,\n",
       "  <__main__.Struct at 0x7f9d2c0767b8>,\n",
       "  <__main__.Struct at 0x7f9d2c0768d0>,\n",
       "  <__main__.Struct at 0x7f9d2c076908>,\n",
       "  <__main__.Struct at 0x7f9d2c0765c0>,\n",
       "  <__main__.Struct at 0x7f9d2c0762e8>,\n",
       "  <__main__.Struct at 0x7f9d2c076898>,\n",
       "  <__main__.Struct at 0x7f9d2c076978>,\n",
       "  <__main__.Struct at 0x7f9d2c076828>,\n",
       "  <__main__.Struct at 0x7f9d2c076438>,\n",
       "  <__main__.Struct at 0x7f9d2c076588>,\n",
       "  <__main__.Struct at 0x7f9d2c076da0>,\n",
       "  <__main__.Struct at 0x7f9d2c076e10>,\n",
       "  <__main__.Struct at 0x7f9d2c076dd8>,\n",
       "  <__main__.Struct at 0x7f9d2c076d68>,\n",
       "  <__main__.Struct at 0x7f9d2c076ac8>,\n",
       "  <__main__.Struct at 0x7f9d2c076b70>,\n",
       "  <__main__.Struct at 0x7f9d2c076518>,\n",
       "  <__main__.Struct at 0x7f9d2c076630>],\n",
       " 'n_pages': 88,\n",
       " 'status': 'ok',\n",
       " 'totalResults': 1778}"
      ]
     },
     "execution_count": 17,
     "metadata": {},
     "output_type": "execute_result"
    }
   ],
   "source": [
    "n.data.__dict__"
   ]
  },
  {
   "cell_type": "code",
   "execution_count": 18,
   "metadata": {
    "collapsed": false,
    "scrolled": true
   },
   "outputs": [
    {
     "data": {
      "text/plain": [
       "{'description': 'A Bitcoin conference has stopped taking the cryptocurrency as payment for tickets because of skyrocketing transaction fees and long processing time.',\n",
       " 'publishedAt': '2018-01-11 00:00:00',\n",
       " 'source': 'The Telegraph',\n",
       " 'title': 'Major cryptocurrency conference no longer accepting Bitcoin payments',\n",
       " 'url': 'http://www.telegraph.co.uk/technology/2018/01/11/major-cryptocurrency-conference-no-longer-accepting-bitcoin/'}"
      ]
     },
     "execution_count": 18,
     "metadata": {},
     "output_type": "execute_result"
    }
   ],
   "source": [
    "n.data.articles[0].__dict__\n"
   ]
  }
 ],
 "metadata": {
  "kernelspec": {
   "display_name": "Python 3",
   "language": "python",
   "name": "python3"
  },
  "language_info": {
   "codemirror_mode": {
    "name": "ipython",
    "version": 3
   },
   "file_extension": ".py",
   "mimetype": "text/x-python",
   "name": "python",
   "nbconvert_exporter": "python",
   "pygments_lexer": "ipython3",
   "version": "3.5.2"
  }
 },
 "nbformat": 4,
 "nbformat_minor": 2
}
