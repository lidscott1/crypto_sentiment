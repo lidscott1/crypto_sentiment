{
 "cells": [
  {
   "cell_type": "code",
   "execution_count": 22,
   "metadata": {
    "collapsed": true
   },
   "outputs": [],
   "source": [
    "\"\"\"This class converts a dict to nested objects\"\"\"\n",
    "\n",
    "class Struct(object):\n",
    "    \"\"\"\n",
    "    Attributes will depend on the structure of object. \n",
    "    If we keep calling the 'everything' newsapi, then the attributes will be:\n",
    "    \n",
    "                    articles: A list of articles, each with their own objects\n",
    "                    status: Status of request, should be 'ok'\n",
    "                    totalResults: The total number of results available for the request, will need\n",
    "                                  to use the &page= parameter to get these as only 20 articles are\n",
    "                                  returned per request.\n",
    "                                  \n",
    "    Resource: https://stackoverflow.com/questions/1305532/convert-python-dict-to-object\n",
    "    \"\"\"\n",
    "    def __init__(self, data):\n",
    "        for name, value in data.items():\n",
    "            setattr(self, name, self._wrap(value))\n",
    "\n",
    "    def _wrap(self, value):\n",
    "        if isinstance(value, (tuple, list, set, frozenset)): \n",
    "            return type(value)([self._wrap(v) for v in value])\n",
    "        else:\n",
    "            return Struct(value) if isinstance(value, dict) else value\n",
    "\n",
    "\n",
    "\"\"\"\n",
    "General class to aggregate all useful objects. \n",
    "Could customize, e.g. change structure of get_raw_data to affect data object\n",
    "\"\"\"\n",
    "\n",
    "class myclass(object):\n",
    "    \"\"\"\n",
    "    Attributes:\n",
    "                call: The url sent to newsapi\n",
    "                raw_data: The dictionary returned when requesting call\n",
    "    \"\"\"\n",
    "    \n",
    "    def get_raw_data(self,call):\n",
    "        r = requests.get(call).json()\n",
    "        \n",
    "        for i in r['articles']:\n",
    "            del i['author']\n",
    "            del i['urlToImage']\n",
    "            t = datetime.datetime.strptime(i['publishedAt'], \"%Y-%m-%dT%H:%M:%S%fZ\")\n",
    "            nt = t.replace(hour=0, minute=0, second=0, microsecond=0)\n",
    "            i['publishedAt'] = str(nt)\n",
    "            i['source'] = i['source']['name']\n",
    "        \n",
    "        return r\n",
    "    \n",
    "    def __init__(self,call):\n",
    "        self.call = call\n",
    "        self.data = Struct(self.get_raw_data(call))\n",
    "        self.data.n_pages = self.data.totalResults/20\n",
    "        \n",
    "    \"\"\"\n",
    "    Takes call and paginates over user input number of pages to provide a list of \n",
    "    lists made up of articles\n",
    "    \"\"\"\n",
    "        \n",
    "    def paginate(self,n):\n",
    "        #If page argument already exists in call, remove it\n",
    "        fp = self.call.find('&page=')\n",
    "        if fp > 0:\n",
    "            l = [x for x, v in enumerate(self.call) if v == '&']\n",
    "            l.append(len(self.call))\n",
    "            nxt = l[next(x[0] for x in enumerate(l) if x[1] > fp)]\n",
    "            base_call = self.call[:fp] + self.call[nxt:]\n",
    "        else:\n",
    "            base_call = self.call\n",
    "            \n",
    "        #print(base_call)\n",
    "        articles_list = []\n",
    "        \n",
    "        for i in range(1,n+1):\n",
    "            new_call = base_call + \"&page=\" + str(i)\n",
    "            #print(new_call)\n",
    "            d = Struct(self.get_raw_data(new_call))\n",
    "            #print(d.articles[0].__dict__)\n",
    "            articles_list.extend(d.articles)\n",
    "            \n",
    "        return articles_list\n"
   ]
  },
  {
   "cell_type": "code",
   "execution_count": 23,
   "metadata": {
    "collapsed": false,
    "scrolled": true
   },
   "outputs": [],
   "source": [
    "import pickle\n",
    "PIK = \"test.dat\"\n",
    "\n",
    "with open(PIK, \"rb\") as f:\n",
    "    data = pickle.load(f)"
   ]
  },
  {
   "cell_type": "code",
   "execution_count": 24,
   "metadata": {
    "collapsed": false,
    "scrolled": true
   },
   "outputs": [
    {
     "data": {
      "text/plain": [
       "5000"
      ]
     },
     "execution_count": 24,
     "metadata": {},
     "output_type": "execute_result"
    }
   ],
   "source": [
    "len(data)"
   ]
  },
  {
   "cell_type": "code",
   "execution_count": 25,
   "metadata": {
    "collapsed": false
   },
   "outputs": [],
   "source": [
    "def manually_classify(l):\n",
    "    print('Enter the polarity for the diplayed title and description, p for postive, p, for negative, nn for neutral.')\n",
    "    print('Enter \"stop\" if you wish to stop. \\n')\n",
    "    for i in range(0,len(l)):\n",
    "        print(\"\\n\")\n",
    "        print(l[i].title)\n",
    "        print(l[i].description)\n",
    "        print(\"\\n\")\n",
    "        while True:\n",
    "            p = input('What is the polarity of this article? ')\n",
    "            if p not in ('p', 'n', 'nn', 'stop'):\n",
    "                print(\"\\n\")\n",
    "                print(\"Not a valid response, please try again.\")\n",
    "            else:\n",
    "                break\n",
    "                \n",
    "        if p == 'stop':\n",
    "            break\n",
    "        else:\n",
    "            l[i].polarity = p\n"
   ]
  },
  {
   "cell_type": "code",
   "execution_count": 18,
   "metadata": {
    "collapsed": true
   },
   "outputs": [
    {
     "name": "stdout",
     "output_type": "stream",
     "text": [
      "Enter the polarity for the diplayed title and description, p for postive, p, for negative, nn for neutral.\n",
      "Enter \"stop\" if you wish to stop. \n",
      "\n",
      "\n",
      "\n",
      "Why Bitcoin’s Price Is So Volatile\n",
      "In 2017, Bitcoin ’s value soared from $1,000 to just under $20,000 before dropping down to around $13,000 at the end of the year. Since then, it’s value has risen and dropped sporadically from day to day, dragging smaller cryptocurrencies like Ether and Rippl…\n",
      "\n",
      "\n",
      "What is the polarity of this article? n\n",
      "\n",
      "\n",
      "How to Buy Cryptocurrency\n",
      "So you’re ready to buy some cryptocurrency. Maybe you’ve been reading up on blockchain technology and you’re convinced it really is the future. Or maybe you watched a friend get rich off Bitcoin and you’re still kicking yourself for not doing the same. Read m…\n",
      "\n",
      "\n",
      "What is the polarity of this article? nnn\n",
      "\n",
      "\n",
      "Not a valid response, please try again.\n",
      "What is the polarity of this article? nn\n",
      "\n",
      "\n",
      "What Is Blockchain?\n",
      "All of a sudden, blockchain is everywhere. The technology, which was invented in 2008 to power Bitcoin when it launched a year later, is being used for everything from copyright protection to sexual consent ( yes, really ). Read more...\n",
      "\n",
      "\n",
      "What is the polarity of this article? p\n",
      "\n",
      "\n",
      "Samsung starts producing GDDR6 RAM for next-gen graphics cards\n",
      "You can start getting pumped about the next generation of graphics cards, as Samsung has announced that it's building the first-ever 16-gigabit GDDR6 chips using its 10-nanometer class technology. The news isn't a complete surprise, as Samsung previously said…\n",
      "\n",
      "\n",
      "What is the polarity of this article? nn\n",
      "\n",
      "\n",
      "Watch the first footage from Kodak’s reborn Super 8 film camera\n",
      "Even if you think that film has had its day, there's no denying it evokes a dreamy nostalgia that digital video can't match. Kodak got a lot of folks, including A-list Hollywood directors, excited about its hybrid Super 8 camera based on that idea, and has no…\n",
      "\n",
      "\n",
      "What is the polarity of this article? nn\n"
     ]
    }
   ],
   "source": [
    "manually_classify(data)"
   ]
  },
  {
   "cell_type": "code",
   "execution_count": 21,
   "metadata": {
    "collapsed": true
   },
   "outputs": [
    {
     "data": {
      "text/plain": [
       "[<__main__.Struct at 0x7fca6814b2b0>, <__main__.Struct at 0x7fca6814bbe0>]"
      ]
     },
     "execution_count": 21,
     "metadata": {},
     "output_type": "execute_result"
    }
   ],
   "source": [
    "t = [x for x in data if x.polarity != 'nn']"
   ]
  }
 ],
 "metadata": {
  "kernelspec": {
   "display_name": "Python 3",
   "language": "python",
   "name": "python3"
  },
  "language_info": {
   "codemirror_mode": {
    "name": "ipython",
    "version": 3
   },
   "file_extension": ".py",
   "mimetype": "text/x-python",
   "name": "python",
   "nbconvert_exporter": "python",
   "pygments_lexer": "ipython3",
   "version": "3.5.2"
  }
 },
 "nbformat": 4,
 "nbformat_minor": 2
}
