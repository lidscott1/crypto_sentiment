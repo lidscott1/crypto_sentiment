{
 "cells": [
  {
   "cell_type": "code",
   "execution_count": 1,
   "metadata": {
    "collapsed": false
   },
   "outputs": [],
   "source": [
    "import requests\n",
    "import datetime\n",
    "import re"
   ]
  },
  {
   "cell_type": "code",
   "execution_count": 2,
   "metadata": {
    "collapsed": false
   },
   "outputs": [],
   "source": [
    "\"\"\"This class converts a dict to nested objects\"\"\"\n",
    "\n",
    "class Struct(object):\n",
    "    \"\"\"\n",
    "    Attributes will depend on the structure of object. \n",
    "    If we keep calling the 'everything' newsapi, then the attributes will be:\n",
    "    \n",
    "                    articles: A list of articles, each with their own objects\n",
    "                    status: Status of request, should be 'ok'\n",
    "                    totalResults: The total number of results available for the request, will need\n",
    "                                  to use the &page= parameter to get these as only 20 articles are\n",
    "                                  returned per request.\n",
    "                                  \n",
    "    Resource: https://stackoverflow.com/questions/1305532/convert-python-dict-to-object\n",
    "    \"\"\"\n",
    "    def __init__(self, data):\n",
    "        for name, value in data.items():\n",
    "            setattr(self, name, self._wrap(value))\n",
    "\n",
    "    def _wrap(self, value):\n",
    "        if isinstance(value, (tuple, list, set, frozenset)): \n",
    "            return type(value)([self._wrap(v) for v in value])\n",
    "        else:\n",
    "            return Struct(value) if isinstance(value, dict) else value\n",
    "\n",
    "\n",
    "\"\"\"\n",
    "General class to aggregate all useful objects. \n",
    "Could customize, e.g. change structure of get_raw_data to affect data object\n",
    "\"\"\"\n",
    "class myclass(object):\n",
    "    \"\"\"\n",
    "    Attributes:\n",
    "                call: The url sent to newsapi\n",
    "                raw_data: The dictionary returned when requesting call\n",
    "    \n",
    "    \"\"\"\n",
    "    \n",
    "    def get_raw_data(self,call):\n",
    "        r = requests.get(call).json()\n",
    "        \n",
    "        for i in r['articles']:\n",
    "            del i['author']\n",
    "            del i['urlToImage']\n",
    "            t = datetime.datetime.strptime(i['publishedAt'], \"%Y-%m-%dT%H:%M:%S%fZ\")\n",
    "            nt = t.replace(hour=0, minute=0, second=0, microsecond=0)\n",
    "            i['publishedAt'] = str(nt)\n",
    "            i['source'] = i['source']['name']\n",
    "        \n",
    "        return r\n",
    "    \n",
    "    def __init__(self,call):\n",
    "        self.call = call\n",
    "        self.data = Struct(self.get_raw_data(call))\n",
    "        self.data.n_pages = self.data.totalResults/20\n",
    "        \n",
    "\"\"\"Takes call and paginates over user input number of pages to provide a list of lists made up of articles\"\"\"\n",
    "        \n",
    "    def paginate(self,n):\n",
    "        #If page argument already exists in call, remove it\n",
    "        fp = self.call.find('&page=')\n",
    "        if fp > 0:\n",
    "            l = [x for x, v in enumerate(self.call) if v == '&']\n",
    "            l.append(len(self.call))\n",
    "            nxt = l[next(x[0] for x in enumerate(l) if x[1] > fp)]\n",
    "            base_call = self.call[:fp] + self.call[nxt:]\n",
    "        else:\n",
    "            base_call = self.call\n",
    "            \n",
    "        #print(base_call)\n",
    "        articles_list = []\n",
    "        \n",
    "        for i in range(1,n+1):\n",
    "            new_call = base_call + \"&page=\" + str(i)\n",
    "            #print(new_call)\n",
    "            d = Struct(self.get_raw_data(new_call))\n",
    "            #print(d.articles[0].__dict__)\n",
    "            articles_list.append(d.articles)\n",
    "            \n",
    "        return articles_list\n"
   ]
  },
  {
   "cell_type": "code",
   "execution_count": 3,
   "metadata": {
    "collapsed": false
   },
   "outputs": [],
   "source": [
    "n =  myclass('https://newsapi.org/v2/everything?q=(BTC OR bitcoin)&from=2018-01-11&to=2018-01-13&language=en&sortBy=popularity&apiKey=6d00cdefd3bc4ee38f8a7af69ac5bec4')"
   ]
  },
  {
   "cell_type": "code",
   "execution_count": 4,
   "metadata": {
    "collapsed": false
   },
   "outputs": [
    {
     "data": {
      "text/plain": [
       "{'articles': [<__main__.Struct at 0x7f66d4aa7d30>,\n",
       "  <__main__.Struct at 0x7f66bed8e588>,\n",
       "  <__main__.Struct at 0x7f66bed8e048>,\n",
       "  <__main__.Struct at 0x7f66bed8e0f0>,\n",
       "  <__main__.Struct at 0x7f66bed74ba8>,\n",
       "  <__main__.Struct at 0x7f66bed74e10>,\n",
       "  <__main__.Struct at 0x7f66bed74be0>,\n",
       "  <__main__.Struct at 0x7f66bed74cf8>,\n",
       "  <__main__.Struct at 0x7f66bed74da0>,\n",
       "  <__main__.Struct at 0x7f66bed74e48>,\n",
       "  <__main__.Struct at 0x7f66bed74dd8>,\n",
       "  <__main__.Struct at 0x7f66bed74cc0>,\n",
       "  <__main__.Struct at 0x7f66bed74fd0>,\n",
       "  <__main__.Struct at 0x7f66bed74e80>,\n",
       "  <__main__.Struct at 0x7f66bed74eb8>,\n",
       "  <__main__.Struct at 0x7f66bed74f98>,\n",
       "  <__main__.Struct at 0x7f66bed74c50>,\n",
       "  <__main__.Struct at 0x7f66bed74c88>,\n",
       "  <__main__.Struct at 0x7f66bed74f60>,\n",
       "  <__main__.Struct at 0x7f66bed74f28>],\n",
       " 'n_pages': 89.2,\n",
       " 'status': 'ok',\n",
       " 'totalResults': 1784}"
      ]
     },
     "execution_count": 4,
     "metadata": {},
     "output_type": "execute_result"
    }
   ],
   "source": [
    "n.data.__dict__"
   ]
  },
  {
   "cell_type": "code",
   "execution_count": 5,
   "metadata": {
    "collapsed": false
   },
   "outputs": [
    {
     "data": {
      "text/plain": [
       "{'description': 'So you’re ready to buy some cryptocurrency. Maybe you’ve been reading up on blockchain technology and you’re convinced it really is the future. Or maybe you watched a friend get rich off Bitcoin and you’re still kicking yourself for not doing the same. Read m…',\n",
       " 'publishedAt': '2018-01-11 00:00:00',\n",
       " 'source': 'Lifehacker.com',\n",
       " 'title': 'How to Buy Cryptocurrency',\n",
       " 'url': 'https://lifehacker.com/how-to-buy-cryptocurrency-1821935329'}"
      ]
     },
     "execution_count": 5,
     "metadata": {},
     "output_type": "execute_result"
    }
   ],
   "source": [
    "n.data.articles[0].__dict__"
   ]
  },
  {
   "cell_type": "code",
   "execution_count": 6,
   "metadata": {
    "collapsed": false,
    "scrolled": false
   },
   "outputs": [
    {
     "name": "stdout",
     "output_type": "stream",
     "text": [
      "https://newsapi.org/v2/everything?q=(BTC OR bitcoin)&from=2018-01-11&to=2018-01-13&language=en&sortBy=popularity&apiKey=6d00cdefd3bc4ee38f8a7af69ac5bec4\n",
      "https://newsapi.org/v2/everything?q=(BTC OR bitcoin)&from=2018-01-11&to=2018-01-13&language=en&sortBy=popularity&apiKey=6d00cdefd3bc4ee38f8a7af69ac5bec4&page=1\n",
      "{'title': 'How to Buy Cryptocurrency', 'source': 'Lifehacker.com', 'url': 'https://lifehacker.com/how-to-buy-cryptocurrency-1821935329', 'description': 'So you’re ready to buy some cryptocurrency. Maybe you’ve been reading up on blockchain technology and you’re convinced it really is the future. Or maybe you watched a friend get rich off Bitcoin and you’re still kicking yourself for not doing the same. Read m…', 'publishedAt': '2018-01-11 00:00:00'}\n",
      "https://newsapi.org/v2/everything?q=(BTC OR bitcoin)&from=2018-01-11&to=2018-01-13&language=en&sortBy=popularity&apiKey=6d00cdefd3bc4ee38f8a7af69ac5bec4&page=2\n",
      "{'title': 'Bitcoin and the pumpkin spice latte problem', 'source': 'The Next Web', 'url': 'https://thenextweb.com/?p=1100927', 'description': 'As Bitcoin continues to test new lows investors have more to worry about than an impending bottom. As the saying goes, “death and taxes” are the only certainties. For cryptocurrency investors, the latter will undoubtedly be responsible for more anxiety than t…', 'publishedAt': '2018-01-11 00:00:00'}\n",
      "https://newsapi.org/v2/everything?q=(BTC OR bitcoin)&from=2018-01-11&to=2018-01-13&language=en&sortBy=popularity&apiKey=6d00cdefd3bc4ee38f8a7af69ac5bec4&page=3\n",
      "{'title': '\\u200bIncapsula’s Global DDoS Threat Landscape Report', 'source': 'Incapsula.com', 'url': 'http://lp.incapsula.com/ddos-threat-landscape-report.html?irgwc=1&clickid=WFeyEMTH4SmMxMs0UWSh5V6WUkmVfPWeqyRf2s0&utm_medium=ir&utm_source=aff&utm_campaign=253469', 'description': '(This is a sponsored post.) The newly released Q3 2017 Global DDoS Threat Landscape Report features insights on attacks and mitigation. These are some of the key findings: Bitcoin was one of the most targeted industries High packet rate attacks grew more comm…', 'publishedAt': '2018-01-11 00:00:00'}\n"
     ]
    },
    {
     "data": {
      "text/plain": [
       "[[<__main__.Struct at 0x7f66bed8da58>,\n",
       "  <__main__.Struct at 0x7f66bed8d780>,\n",
       "  <__main__.Struct at 0x7f66bed8d1d0>,\n",
       "  <__main__.Struct at 0x7f66bed8d2b0>,\n",
       "  <__main__.Struct at 0x7f66bed8dbe0>,\n",
       "  <__main__.Struct at 0x7f66bed8d438>,\n",
       "  <__main__.Struct at 0x7f66bed8da20>,\n",
       "  <__main__.Struct at 0x7f66bed8d9b0>,\n",
       "  <__main__.Struct at 0x7f66bed8d978>,\n",
       "  <__main__.Struct at 0x7f66bed8d4e0>,\n",
       "  <__main__.Struct at 0x7f66bed8dcf8>,\n",
       "  <__main__.Struct at 0x7f66bed8dfd0>,\n",
       "  <__main__.Struct at 0x7f66bed8df28>,\n",
       "  <__main__.Struct at 0x7f66bed8d828>,\n",
       "  <__main__.Struct at 0x7f66bed8d7b8>,\n",
       "  <__main__.Struct at 0x7f66bed8d128>,\n",
       "  <__main__.Struct at 0x7f66bed8d6a0>,\n",
       "  <__main__.Struct at 0x7f66bed8dc50>,\n",
       "  <__main__.Struct at 0x7f66bed8dac8>,\n",
       "  <__main__.Struct at 0x7f66bed8d390>],\n",
       " [<__main__.Struct at 0x7f66bed8d588>,\n",
       "  <__main__.Struct at 0x7f66bed8d9e8>,\n",
       "  <__main__.Struct at 0x7f66bed8d400>,\n",
       "  <__main__.Struct at 0x7f66bed8dba8>,\n",
       "  <__main__.Struct at 0x7f66bed8d940>,\n",
       "  <__main__.Struct at 0x7f66bed8db00>,\n",
       "  <__main__.Struct at 0x7f66bed8d518>,\n",
       "  <__main__.Struct at 0x7f66bed8d630>,\n",
       "  <__main__.Struct at 0x7f66bed8dd68>,\n",
       "  <__main__.Struct at 0x7f66bed8d470>,\n",
       "  <__main__.Struct at 0x7f66bed8dd30>,\n",
       "  <__main__.Struct at 0x7f66bed8d0f0>,\n",
       "  <__main__.Struct at 0x7f66bed15358>,\n",
       "  <__main__.Struct at 0x7f66bed15240>,\n",
       "  <__main__.Struct at 0x7f66bed15390>,\n",
       "  <__main__.Struct at 0x7f66bed153c8>,\n",
       "  <__main__.Struct at 0x7f66bed15278>,\n",
       "  <__main__.Struct at 0x7f66bed15080>,\n",
       "  <__main__.Struct at 0x7f66bed152b0>,\n",
       "  <__main__.Struct at 0x7f66bed156d8>],\n",
       " [<__main__.Struct at 0x7f66bed8dcc0>,\n",
       "  <__main__.Struct at 0x7f66bed8dc18>,\n",
       "  <__main__.Struct at 0x7f66bed15c50>,\n",
       "  <__main__.Struct at 0x7f66bed15ba8>,\n",
       "  <__main__.Struct at 0x7f66bed15ac8>,\n",
       "  <__main__.Struct at 0x7f66bed15b00>,\n",
       "  <__main__.Struct at 0x7f66bed15780>,\n",
       "  <__main__.Struct at 0x7f66bed15b70>,\n",
       "  <__main__.Struct at 0x7f66bed154e0>,\n",
       "  <__main__.Struct at 0x7f66bed15d68>,\n",
       "  <__main__.Struct at 0x7f66bed15f28>,\n",
       "  <__main__.Struct at 0x7f66bed15fd0>,\n",
       "  <__main__.Struct at 0x7f66bed15e80>,\n",
       "  <__main__.Struct at 0x7f66bed159e8>,\n",
       "  <__main__.Struct at 0x7f66bed15978>,\n",
       "  <__main__.Struct at 0x7f66bed15588>,\n",
       "  <__main__.Struct at 0x7f66bed15a58>,\n",
       "  <__main__.Struct at 0x7f66bed15d30>,\n",
       "  <__main__.Struct at 0x7f66bed15400>,\n",
       "  <__main__.Struct at 0x7f66bed15470>]]"
      ]
     },
     "execution_count": 6,
     "metadata": {},
     "output_type": "execute_result"
    }
   ],
   "source": [
    "l = n.paginate(3)\n",
    "l"
   ]
  },
  {
   "cell_type": "code",
   "execution_count": 7,
   "metadata": {
    "collapsed": false,
    "scrolled": true
   },
   "outputs": [
    {
     "data": {
      "text/plain": [
       "{'description': 'So you’re ready to buy some cryptocurrency. Maybe you’ve been reading up on blockchain technology and you’re convinced it really is the future. Or maybe you watched a friend get rich off Bitcoin and you’re still kicking yourself for not doing the same. Read m…',\n",
       " 'publishedAt': '2018-01-11 00:00:00',\n",
       " 'source': 'Lifehacker.com',\n",
       " 'title': 'How to Buy Cryptocurrency',\n",
       " 'url': 'https://lifehacker.com/how-to-buy-cryptocurrency-1821935329'}"
      ]
     },
     "execution_count": 7,
     "metadata": {},
     "output_type": "execute_result"
    }
   ],
   "source": [
    "l[0][0].__dict__\n"
   ]
  },
  {
   "cell_type": "code",
   "execution_count": 8,
   "metadata": {
    "collapsed": false,
    "scrolled": true
   },
   "outputs": [
    {
     "data": {
      "text/plain": [
       "{'description': 'As Bitcoin continues to test new lows investors have more to worry about than an impending bottom. As the saying goes, “death and taxes” are the only certainties. For cryptocurrency investors, the latter will undoubtedly be responsible for more anxiety than t…',\n",
       " 'publishedAt': '2018-01-11 00:00:00',\n",
       " 'source': 'The Next Web',\n",
       " 'title': 'Bitcoin and the pumpkin spice latte problem',\n",
       " 'url': 'https://thenextweb.com/?p=1100927'}"
      ]
     },
     "execution_count": 8,
     "metadata": {},
     "output_type": "execute_result"
    }
   ],
   "source": [
    "l[1][0].__dict__"
   ]
  },
  {
   "cell_type": "code",
   "execution_count": 9,
   "metadata": {
    "collapsed": false,
    "scrolled": true
   },
   "outputs": [
    {
     "data": {
      "text/plain": [
       "{'description': '(This is a sponsored post.) The newly released Q3 2017 Global DDoS Threat Landscape Report features insights on attacks and mitigation. These are some of the key findings: Bitcoin was one of the most targeted industries High packet rate attacks grew more comm…',\n",
       " 'publishedAt': '2018-01-11 00:00:00',\n",
       " 'source': 'Incapsula.com',\n",
       " 'title': '\\u200bIncapsula’s Global DDoS Threat Landscape Report',\n",
       " 'url': 'http://lp.incapsula.com/ddos-threat-landscape-report.html?irgwc=1&clickid=WFeyEMTH4SmMxMs0UWSh5V6WUkmVfPWeqyRf2s0&utm_medium=ir&utm_source=aff&utm_campaign=253469'}"
      ]
     },
     "execution_count": 9,
     "metadata": {},
     "output_type": "execute_result"
    }
   ],
   "source": [
    "l[2][0].__dict__"
   ]
  },
  {
   "cell_type": "code",
   "execution_count": 13,
   "metadata": {
    "collapsed": false,
    "scrolled": false
   },
   "outputs": [
    {
     "name": "stdout",
     "output_type": "stream",
     "text": [
      "How to Buy Cryptocurrency\n",
      "So you’re ready to buy some cryptocurrency. Maybe you’ve been reading up on blockchain technology and you’re convinced it really is the future. Or maybe you watched a friend get rich off Bitcoin and you’re still kicking yourself for not doing the same. Read m…\n",
      "What is the polarity of this article? 0.5\n"
     ]
    }
   ],
   "source": [
    "print(l[0][0].title)\n",
    "print(l[0][0].description)\n",
    "l[0][0].polarity = input('What is the polarity of this article? ')"
   ]
  },
  {
   "cell_type": "code",
   "execution_count": 15,
   "metadata": {
    "collapsed": false,
    "scrolled": true
   },
   "outputs": [
    {
     "data": {
      "text/plain": [
       "{'description': 'So you’re ready to buy some cryptocurrency. Maybe you’ve been reading up on blockchain technology and you’re convinced it really is the future. Or maybe you watched a friend get rich off Bitcoin and you’re still kicking yourself for not doing the same. Read m…',\n",
       " 'polarity': '0.5',\n",
       " 'publishedAt': '2018-01-11 00:00:00',\n",
       " 'source': 'Lifehacker.com',\n",
       " 'title': 'How to Buy Cryptocurrency',\n",
       " 'url': 'https://lifehacker.com/how-to-buy-cryptocurrency-1821935329'}"
      ]
     },
     "execution_count": 15,
     "metadata": {},
     "output_type": "execute_result"
    }
   ],
   "source": [
    "l[0][0].__dict__"
   ]
  },
  {
   "cell_type": "code",
   "execution_count": 28,
   "metadata": {
    "collapsed": false
   },
   "outputs": [],
   "source": [
    "def manually_classify(l):\n",
    "    print('Enter the polarity for the diplayed title and description, 1.0 for postive, 0.0, for negative, 0.5 for neutral.')\n",
    "    print('Enter \"stop\" if you wish to stop. \\n')\n",
    "    for i in range(0,len(l)):\n",
    "        for j in range(0,len(l[i])):\n",
    "            print(l[i][j].title)\n",
    "            print(l[i][j].description)\n",
    "            print(\"\\n\")\n",
    "            p = input('What is the polarity of this article? ')\n",
    "            if p == 'stop':\n",
    "                break\n",
    "            else:\n",
    "                l[i][j].polarity = p\n",
    "                \n",
    "        else:\n",
    "            continue  # executed if the j loop ended normally (no break)\n",
    "        break  # executed if 'continue' was skipped (break)"
   ]
  },
  {
   "cell_type": "code",
   "execution_count": null,
   "metadata": {
    "collapsed": true
   },
   "outputs": [],
   "source": []
  }
 ],
 "metadata": {
  "kernelspec": {
   "display_name": "Python 3",
   "language": "python",
   "name": "python3"
  },
  "language_info": {
   "codemirror_mode": {
    "name": "ipython",
    "version": 3
   },
   "file_extension": ".py",
   "mimetype": "text/x-python",
   "name": "python",
   "nbconvert_exporter": "python",
   "pygments_lexer": "ipython3",
   "version": "3.5.2"
  }
 },
 "nbformat": 4,
 "nbformat_minor": 2
}
