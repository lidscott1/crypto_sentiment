{
 "cells": [
  {
   "cell_type": "code",
   "execution_count": 9,
   "metadata": {
    "collapsed": false
   },
   "outputs": [],
   "source": [
    "import requests\n",
    "import datetime\n",
    "import re"
   ]
  },
  {
   "cell_type": "code",
   "execution_count": 10,
   "metadata": {
    "collapsed": false
   },
   "outputs": [],
   "source": [
    "\"\"\"This class converts a dict to nested objects\"\"\"\n",
    "\n",
    "class Struct(object):\n",
    "    \"\"\"\n",
    "    Attributes will depend on the structure of object. \n",
    "    If we keep calling the 'everything' newsapi, then the attributes will be:\n",
    "    \n",
    "                    articles: A list of articles, each with their own objects\n",
    "                    status: Status of request, should be 'ok'\n",
    "                    totalResults: The total number of results available for the request, will need\n",
    "                                  to use the &page= parameter to get these as only 20 articles are\n",
    "                                  returned per request.\n",
    "                                  \n",
    "    Resource: https://stackoverflow.com/questions/1305532/convert-python-dict-to-object\n",
    "    \"\"\"\n",
    "    def __init__(self, data):\n",
    "        for name, value in data.items():\n",
    "            setattr(self, name, self._wrap(value))\n",
    "\n",
    "    def _wrap(self, value):\n",
    "        if isinstance(value, (tuple, list, set, frozenset)): \n",
    "            return type(value)([self._wrap(v) for v in value])\n",
    "        else:\n",
    "            return Struct(value) if isinstance(value, dict) else value\n",
    "\n",
    "\n",
    "\"\"\"\n",
    "General class to aggregate all useful objects. \n",
    "Could customize, e.g. change structure of get_raw_data to affect data object\n",
    "\"\"\"\n",
    "\n",
    "class myclass(object):\n",
    "    \"\"\"\n",
    "    Attributes:\n",
    "                call: The url sent to newsapi\n",
    "                raw_data: The dictionary returned when requesting call\n",
    "    \"\"\"\n",
    "    \n",
    "    def get_raw_data(self,call):\n",
    "        r = requests.get(call).json()\n",
    "        \n",
    "        for i in r['articles']:\n",
    "            del i['author']\n",
    "            del i['urlToImage']\n",
    "            t = datetime.datetime.strptime(i['publishedAt'], \"%Y-%m-%dT%H:%M:%S%fZ\")\n",
    "            nt = t.replace(hour=0, minute=0, second=0, microsecond=0)\n",
    "            i['publishedAt'] = str(nt)\n",
    "            i['source'] = i['source']['name']\n",
    "        \n",
    "        return r\n",
    "    \n",
    "    def __init__(self,call):\n",
    "        self.call = call\n",
    "        self.data = Struct(self.get_raw_data(call))\n",
    "        self.data.n_pages = self.data.totalResults/20\n",
    "        \n",
    "    \"\"\"\n",
    "    Takes call and paginates over user input number of pages to provide a list of \n",
    "    lists made up of articles\n",
    "    \"\"\"\n",
    "        \n",
    "    def paginate(self,n):\n",
    "        #If page argument already exists in call, remove it\n",
    "        fp = self.call.find('&page=')\n",
    "        if fp > 0:\n",
    "            l = [x for x, v in enumerate(self.call) if v == '&']\n",
    "            l.append(len(self.call))\n",
    "            nxt = l[next(x[0] for x in enumerate(l) if x[1] > fp)]\n",
    "            base_call = self.call[:fp] + self.call[nxt:]\n",
    "        else:\n",
    "            base_call = self.call\n",
    "            \n",
    "        #print(base_call)\n",
    "        articles_list = []\n",
    "        \n",
    "        for i in range(1,n+1):\n",
    "            new_call = base_call + \"&page=\" + str(i)\n",
    "            #print(new_call)\n",
    "            d = Struct(self.get_raw_data(new_call))\n",
    "            #print(d.articles[0].__dict__)\n",
    "            articles_list.extend(d.articles)\n",
    "            \n",
    "        return articles_list\n"
   ]
  },
  {
   "cell_type": "code",
   "execution_count": 11,
   "metadata": {
    "collapsed": false
   },
   "outputs": [],
   "source": [
    "n =  myclass('https://newsapi.org/v2/everything?q=(BTC OR bitcoin)&from=2018-01-11&to=2018-01-18&language=en&sortBy=popularity&apiKey=6d00cdefd3bc4ee38f8a7af69ac5bec4')"
   ]
  },
  {
   "cell_type": "code",
   "execution_count": 12,
   "metadata": {
    "collapsed": false
   },
   "outputs": [
    {
     "data": {
      "text/plain": [
       "{'articles': [<__main__.Struct at 0x7f378c03d1d0>,\n",
       "  <__main__.Struct at 0x7f378c03d7f0>,\n",
       "  <__main__.Struct at 0x7f378c03d2b0>,\n",
       "  <__main__.Struct at 0x7f378c03d2e8>,\n",
       "  <__main__.Struct at 0x7f378c03d358>,\n",
       "  <__main__.Struct at 0x7f378c03d550>,\n",
       "  <__main__.Struct at 0x7f378c03d390>,\n",
       "  <__main__.Struct at 0x7f378c03dac8>,\n",
       "  <__main__.Struct at 0x7f378c03d208>,\n",
       "  <__main__.Struct at 0x7f378c03d6d8>,\n",
       "  <__main__.Struct at 0x7f378c03d710>,\n",
       "  <__main__.Struct at 0x7f378c03d5c0>,\n",
       "  <__main__.Struct at 0x7f378c03d588>,\n",
       "  <__main__.Struct at 0x7f378c03d668>,\n",
       "  <__main__.Struct at 0x7f378c03dc50>,\n",
       "  <__main__.Struct at 0x7f378c03d080>,\n",
       "  <__main__.Struct at 0x7f378c03d128>,\n",
       "  <__main__.Struct at 0x7f378c03dcc0>,\n",
       "  <__main__.Struct at 0x7f378c03d940>,\n",
       "  <__main__.Struct at 0x7f378c03d908>],\n",
       " 'n_pages': 256.7,\n",
       " 'status': 'ok',\n",
       " 'totalResults': 5134}"
      ]
     },
     "execution_count": 12,
     "metadata": {},
     "output_type": "execute_result"
    }
   ],
   "source": [
    "n.data.__dict__"
   ]
  },
  {
   "cell_type": "code",
   "execution_count": 13,
   "metadata": {
    "collapsed": false,
    "scrolled": false
   },
   "outputs": [],
   "source": [
    "l = n.paginate(250)"
   ]
  },
  {
   "cell_type": "code",
   "execution_count": 16,
   "metadata": {
    "collapsed": false
   },
   "outputs": [
    {
     "data": {
      "text/plain": [
       "5000"
      ]
     },
     "execution_count": 16,
     "metadata": {},
     "output_type": "execute_result"
    }
   ],
   "source": [
    "len(l)  #should be 20 * input of paginate()"
   ]
  },
  {
   "cell_type": "code",
   "execution_count": 17,
   "metadata": {
    "collapsed": true
   },
   "outputs": [],
   "source": [
    "import pickle\n",
    "PIK = \"test.dat\"\n",
    "\n",
    "with open(PIK, \"wb\") as f:\n",
    "    pickle.dump(l, f)"
   ]
  }
 ],
 "metadata": {
  "kernelspec": {
   "display_name": "Python 3",
   "language": "python",
   "name": "python3"
  },
  "language_info": {
   "codemirror_mode": {
    "name": "ipython",
    "version": 3
   },
   "file_extension": ".py",
   "mimetype": "text/x-python",
   "name": "python",
   "nbconvert_exporter": "python",
   "pygments_lexer": "ipython3",
   "version": "3.5.2"
  }
 },
 "nbformat": 4,
 "nbformat_minor": 2
}
