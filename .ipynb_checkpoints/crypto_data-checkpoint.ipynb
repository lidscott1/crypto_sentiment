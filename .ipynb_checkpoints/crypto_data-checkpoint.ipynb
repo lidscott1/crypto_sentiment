{
 "cells": [
  {
   "cell_type": "code",
   "execution_count": 1,
   "metadata": {
    "collapsed": true
   },
   "outputs": [],
   "source": [
    "import csv\n",
    "import requests\n",
    "import json\n",
    "import datetime\n",
    "import pandas as pd"
   ]
  },
  {
   "cell_type": "markdown",
   "metadata": {},
   "source": [
    "Reading in Bitcoin to USD rates over time. Csv source is from https://www.coindesk.com/price/"
   ]
  },
  {
   "cell_type": "code",
   "execution_count": 2,
   "metadata": {
    "collapsed": false
   },
   "outputs": [],
   "source": [
    "with open('coindesk-bpi-USD-close_data-2013-08-23_2018-01-08.csv') as csvfile:\n",
    "    readCSV = csv.reader(csvfile, delimiter=',')\n",
    "    next(readCSV, None) #skip header\n",
    "    dates = []\n",
    "    prices = []\n",
    "    for row in readCSV:\n",
    "        date = row[0]\n",
    "        price = row[1]\n",
    "\n",
    "        dates.append(date)\n",
    "        prices.append(price)"
   ]
  },
  {
   "cell_type": "code",
   "execution_count": 3,
   "metadata": {
    "collapsed": false
   },
   "outputs": [
    {
     "data": {
      "text/html": [
       "<div>\n",
       "<table border=\"1\" class=\"dataframe\">\n",
       "  <thead>\n",
       "    <tr style=\"text-align: right;\">\n",
       "      <th></th>\n",
       "      <th>BTC_USD</th>\n",
       "      <th>date</th>\n",
       "    </tr>\n",
       "  </thead>\n",
       "  <tbody>\n",
       "    <tr>\n",
       "      <th>0</th>\n",
       "      <td>107.55</td>\n",
       "      <td>2013-08-23 00:00:00</td>\n",
       "    </tr>\n",
       "    <tr>\n",
       "      <th>1</th>\n",
       "      <td>108.69</td>\n",
       "      <td>2013-08-24 00:00:00</td>\n",
       "    </tr>\n",
       "    <tr>\n",
       "      <th>2</th>\n",
       "      <td>111.79</td>\n",
       "      <td>2013-08-25 00:00:00</td>\n",
       "    </tr>\n",
       "    <tr>\n",
       "      <th>3</th>\n",
       "      <td>112.23</td>\n",
       "      <td>2013-08-26 00:00:00</td>\n",
       "    </tr>\n",
       "    <tr>\n",
       "      <th>4</th>\n",
       "      <td>117.45</td>\n",
       "      <td>2013-08-27 00:00:00</td>\n",
       "    </tr>\n",
       "  </tbody>\n",
       "</table>\n",
       "</div>"
      ],
      "text/plain": [
       "  BTC_USD                 date\n",
       "0  107.55  2013-08-23 00:00:00\n",
       "1  108.69  2013-08-24 00:00:00\n",
       "2  111.79  2013-08-25 00:00:00\n",
       "3  112.23  2013-08-26 00:00:00\n",
       "4  117.45  2013-08-27 00:00:00"
      ]
     },
     "execution_count": 3,
     "metadata": {},
     "output_type": "execute_result"
    }
   ],
   "source": [
    "btc_usd_pd = pd.DataFrame(\n",
    "    {'date': dates,\n",
    "     'BTC_USD': prices,\n",
    "    })\n",
    "btc_usd_pd.head()"
   ]
  },
  {
   "cell_type": "markdown",
   "metadata": {},
   "source": [
    "For alternative currencies I use [Poloniex's api](https://poloniex.com/support/api/). Specifically, I use `returnChartData` from the Public API Method."
   ]
  },
  {
   "cell_type": "markdown",
   "metadata": {},
   "source": [
    "Reading in Litecoin to Bitcoin rate over time "
   ]
  },
  {
   "cell_type": "code",
   "execution_count": 4,
   "metadata": {
    "collapsed": true
   },
   "outputs": [],
   "source": [
    "bl = requests.get('https://poloniex.com/public?command=returnChartData&currencyPair=BTC_LTC&start=1377302400&end=9999999999&period=86400')\n",
    "btc_ltc_d = bl.json()"
   ]
  },
  {
   "cell_type": "code",
   "execution_count": 5,
   "metadata": {
    "collapsed": false
   },
   "outputs": [],
   "source": [
    "temp = [i['date'] for i in btc_ltc_d]\n",
    "btc_ltc_dates = []\n",
    "for date in temp:\n",
    "    btc_ltc_dates.append(datetime.datetime.fromtimestamp(date).strftime('%Y-%m-%d 00:00:00'))\n",
    "\n",
    "btc_ltc_prices = [float(i['close']) for i in btc_ltc_d]"
   ]
  },
  {
   "cell_type": "code",
   "execution_count": 6,
   "metadata": {
    "collapsed": false
   },
   "outputs": [
    {
     "data": {
      "text/html": [
       "<div>\n",
       "<table border=\"1\" class=\"dataframe\">\n",
       "  <thead>\n",
       "    <tr style=\"text-align: right;\">\n",
       "      <th></th>\n",
       "      <th>BTC_LTC</th>\n",
       "      <th>date</th>\n",
       "    </tr>\n",
       "  </thead>\n",
       "  <tbody>\n",
       "    <tr>\n",
       "      <th>0</th>\n",
       "      <td>0.0285</td>\n",
       "      <td>2014-01-17 00:00:00</td>\n",
       "    </tr>\n",
       "    <tr>\n",
       "      <th>1</th>\n",
       "      <td>0.0283</td>\n",
       "      <td>2014-01-18 00:00:00</td>\n",
       "    </tr>\n",
       "    <tr>\n",
       "      <th>2</th>\n",
       "      <td>0.0283</td>\n",
       "      <td>2014-01-19 00:00:00</td>\n",
       "    </tr>\n",
       "    <tr>\n",
       "      <th>3</th>\n",
       "      <td>0.0283</td>\n",
       "      <td>2014-01-20 00:00:00</td>\n",
       "    </tr>\n",
       "    <tr>\n",
       "      <th>4</th>\n",
       "      <td>0.0283</td>\n",
       "      <td>2014-01-21 00:00:00</td>\n",
       "    </tr>\n",
       "  </tbody>\n",
       "</table>\n",
       "</div>"
      ],
      "text/plain": [
       "   BTC_LTC                 date\n",
       "0   0.0285  2014-01-17 00:00:00\n",
       "1   0.0283  2014-01-18 00:00:00\n",
       "2   0.0283  2014-01-19 00:00:00\n",
       "3   0.0283  2014-01-20 00:00:00\n",
       "4   0.0283  2014-01-21 00:00:00"
      ]
     },
     "execution_count": 6,
     "metadata": {},
     "output_type": "execute_result"
    }
   ],
   "source": [
    "btc_ltc_pd = pd.DataFrame(\n",
    "    {'date': btc_ltc_dates,\n",
    "     'BTC_LTC': btc_ltc_prices\n",
    "    })\n",
    "btc_ltc_pd.head()"
   ]
  },
  {
   "cell_type": "markdown",
   "metadata": {},
   "source": [
    "Reading in Ethereum to Bitcoin rate over time"
   ]
  },
  {
   "cell_type": "code",
   "execution_count": 7,
   "metadata": {
    "collapsed": true
   },
   "outputs": [],
   "source": [
    "be = requests.get('https://poloniex.com/public?command=returnChartData&currencyPair=BTC_ETH&start=1377302400&end=9999999999&period=86400')\n",
    "btc_eth_d = be.json()"
   ]
  },
  {
   "cell_type": "code",
   "execution_count": 8,
   "metadata": {
    "collapsed": true
   },
   "outputs": [],
   "source": [
    "temp = [i['date'] for i in btc_eth_d]\n",
    "btc_eth_dates = []\n",
    "for date in temp:\n",
    "    btc_eth_dates.append(datetime.datetime.fromtimestamp(date).strftime('%Y-%m-%d 00:00:00'))\n",
    "\n",
    "btc_eth_prices = [float(i['close']) for i in btc_eth_d]"
   ]
  },
  {
   "cell_type": "code",
   "execution_count": 9,
   "metadata": {
    "collapsed": false
   },
   "outputs": [
    {
     "data": {
      "text/html": [
       "<div>\n",
       "<table border=\"1\" class=\"dataframe\">\n",
       "  <thead>\n",
       "    <tr style=\"text-align: right;\">\n",
       "      <th></th>\n",
       "      <th>BTC_ETH</th>\n",
       "      <th>date</th>\n",
       "    </tr>\n",
       "  </thead>\n",
       "  <tbody>\n",
       "    <tr>\n",
       "      <th>0</th>\n",
       "      <td>0.003125</td>\n",
       "      <td>2015-08-07 00:00:00</td>\n",
       "    </tr>\n",
       "    <tr>\n",
       "      <th>1</th>\n",
       "      <td>0.002581</td>\n",
       "      <td>2015-08-08 00:00:00</td>\n",
       "    </tr>\n",
       "    <tr>\n",
       "      <th>2</th>\n",
       "      <td>0.002645</td>\n",
       "      <td>2015-08-09 00:00:00</td>\n",
       "    </tr>\n",
       "    <tr>\n",
       "      <th>3</th>\n",
       "      <td>0.003950</td>\n",
       "      <td>2015-08-10 00:00:00</td>\n",
       "    </tr>\n",
       "    <tr>\n",
       "      <th>4</th>\n",
       "      <td>0.004500</td>\n",
       "      <td>2015-08-11 00:00:00</td>\n",
       "    </tr>\n",
       "  </tbody>\n",
       "</table>\n",
       "</div>"
      ],
      "text/plain": [
       "    BTC_ETH                 date\n",
       "0  0.003125  2015-08-07 00:00:00\n",
       "1  0.002581  2015-08-08 00:00:00\n",
       "2  0.002645  2015-08-09 00:00:00\n",
       "3  0.003950  2015-08-10 00:00:00\n",
       "4  0.004500  2015-08-11 00:00:00"
      ]
     },
     "execution_count": 9,
     "metadata": {},
     "output_type": "execute_result"
    }
   ],
   "source": [
    "btc_eth_pd = pd.DataFrame(\n",
    "    {'date': btc_eth_dates,\n",
    "     'BTC_ETH': btc_eth_prices\n",
    "    })\n",
    "btc_eth_pd.head()"
   ]
  },
  {
   "cell_type": "markdown",
   "metadata": {},
   "source": [
    "Reading in Ripple to Bitcoin rate over time"
   ]
  },
  {
   "cell_type": "code",
   "execution_count": 10,
   "metadata": {
    "collapsed": true
   },
   "outputs": [],
   "source": [
    "br = requests.get('https://poloniex.com/public?command=returnChartData&currencyPair=BTC_XRP&start=1377302400&end=9999999999&period=86400')\n",
    "btc_xrp_d = br.json()"
   ]
  },
  {
   "cell_type": "code",
   "execution_count": 11,
   "metadata": {
    "collapsed": true
   },
   "outputs": [],
   "source": [
    "temp = [i['date'] for i in btc_xrp_d]\n",
    "btc_xrp_dates = []\n",
    "for date in temp:\n",
    "    btc_xrp_dates.append(datetime.datetime.fromtimestamp(date).strftime('%Y-%m-%d 00:00:00'))\n",
    "\n",
    "btc_xrp_prices = [float(i['close']) for i in btc_xrp_d]"
   ]
  },
  {
   "cell_type": "code",
   "execution_count": 12,
   "metadata": {
    "collapsed": false
   },
   "outputs": [
    {
     "data": {
      "text/html": [
       "<div>\n",
       "<table border=\"1\" class=\"dataframe\">\n",
       "  <thead>\n",
       "    <tr style=\"text-align: right;\">\n",
       "      <th></th>\n",
       "      <th>BTC_XRP</th>\n",
       "      <th>date</th>\n",
       "    </tr>\n",
       "  </thead>\n",
       "  <tbody>\n",
       "    <tr>\n",
       "      <th>0</th>\n",
       "      <td>0.000007</td>\n",
       "      <td>2014-08-13 00:00:00</td>\n",
       "    </tr>\n",
       "    <tr>\n",
       "      <th>1</th>\n",
       "      <td>0.000011</td>\n",
       "      <td>2014-08-14 00:00:00</td>\n",
       "    </tr>\n",
       "    <tr>\n",
       "      <th>2</th>\n",
       "      <td>0.000011</td>\n",
       "      <td>2014-08-15 00:00:00</td>\n",
       "    </tr>\n",
       "    <tr>\n",
       "      <th>3</th>\n",
       "      <td>0.000017</td>\n",
       "      <td>2014-08-16 00:00:00</td>\n",
       "    </tr>\n",
       "    <tr>\n",
       "      <th>4</th>\n",
       "      <td>0.000010</td>\n",
       "      <td>2014-08-17 00:00:00</td>\n",
       "    </tr>\n",
       "  </tbody>\n",
       "</table>\n",
       "</div>"
      ],
      "text/plain": [
       "    BTC_XRP                 date\n",
       "0  0.000007  2014-08-13 00:00:00\n",
       "1  0.000011  2014-08-14 00:00:00\n",
       "2  0.000011  2014-08-15 00:00:00\n",
       "3  0.000017  2014-08-16 00:00:00\n",
       "4  0.000010  2014-08-17 00:00:00"
      ]
     },
     "execution_count": 12,
     "metadata": {},
     "output_type": "execute_result"
    }
   ],
   "source": [
    "btc_xrp_pd = pd.DataFrame(\n",
    "    {'date': btc_xrp_dates,\n",
    "     'BTC_XRP': btc_xrp_prices\n",
    "    })\n",
    "btc_xrp_pd.head()"
   ]
  },
  {
   "cell_type": "markdown",
   "metadata": {},
   "source": [
    "Merging dataframes"
   ]
  },
  {
   "cell_type": "code",
   "execution_count": 13,
   "metadata": {
    "collapsed": false,
    "scrolled": true
   },
   "outputs": [],
   "source": [
    "m = pd.merge(btc_usd_pd, btc_ltc_pd, on=\"date\",how=\"left\")\n",
    "m['BTC_USD'] = pd.to_numeric(m['BTC_USD'])\n",
    "m['LTC_USD'] = m['BTC_USD']*m['BTC_LTC']"
   ]
  },
  {
   "cell_type": "code",
   "execution_count": 14,
   "metadata": {
    "collapsed": false,
    "scrolled": true
   },
   "outputs": [],
   "source": [
    "m1 = pd.merge(m,btc_eth_pd,on=\"date\",how=\"left\")\n",
    "m1['ETH_USD'] = m1['BTC_USD']*m1['BTC_ETH']"
   ]
  },
  {
   "cell_type": "code",
   "execution_count": 15,
   "metadata": {
    "collapsed": false
   },
   "outputs": [],
   "source": [
    "m2 = pd.merge(m1,btc_xrp_pd,on=\"date\",how=\"left\")\n",
    "m2['XRP_USD'] = m2['BTC_USD']*m2['BTC_XRP']"
   ]
  },
  {
   "cell_type": "code",
   "execution_count": 16,
   "metadata": {
    "collapsed": false
   },
   "outputs": [
    {
     "data": {
      "text/html": [
       "<div>\n",
       "<table border=\"1\" class=\"dataframe\">\n",
       "  <thead>\n",
       "    <tr style=\"text-align: right;\">\n",
       "      <th></th>\n",
       "      <th>BTC_USD</th>\n",
       "      <th>date</th>\n",
       "      <th>BTC_LTC</th>\n",
       "      <th>LTC_USD</th>\n",
       "      <th>BTC_ETH</th>\n",
       "      <th>ETH_USD</th>\n",
       "      <th>BTC_XRP</th>\n",
       "      <th>XRP_USD</th>\n",
       "    </tr>\n",
       "  </thead>\n",
       "  <tbody>\n",
       "    <tr>\n",
       "      <th>1589</th>\n",
       "      <td>14427.87</td>\n",
       "      <td>2017-12-29 00:00:00</td>\n",
       "      <td>0.016725</td>\n",
       "      <td>241.306270</td>\n",
       "      <td>0.055030</td>\n",
       "      <td>793.965686</td>\n",
       "      <td>0.000148</td>\n",
       "      <td>2.141962</td>\n",
       "    </tr>\n",
       "    <tr>\n",
       "      <th>1590</th>\n",
       "      <td>12629.81</td>\n",
       "      <td>2017-12-30 00:00:00</td>\n",
       "      <td>0.016380</td>\n",
       "      <td>206.877172</td>\n",
       "      <td>0.053493</td>\n",
       "      <td>675.606300</td>\n",
       "      <td>0.000143</td>\n",
       "      <td>1.809220</td>\n",
       "    </tr>\n",
       "    <tr>\n",
       "      <th>1591</th>\n",
       "      <td>13860.14</td>\n",
       "      <td>2017-12-31 00:00:00</td>\n",
       "      <td>0.016660</td>\n",
       "      <td>230.912704</td>\n",
       "      <td>0.056167</td>\n",
       "      <td>778.476385</td>\n",
       "      <td>0.000152</td>\n",
       "      <td>2.106741</td>\n",
       "    </tr>\n",
       "    <tr>\n",
       "      <th>1592</th>\n",
       "      <td>13412.44</td>\n",
       "      <td>2018-01-01 00:00:00</td>\n",
       "      <td>0.016975</td>\n",
       "      <td>227.681936</td>\n",
       "      <td>0.058369</td>\n",
       "      <td>782.874063</td>\n",
       "      <td>0.000149</td>\n",
       "      <td>1.995905</td>\n",
       "    </tr>\n",
       "    <tr>\n",
       "      <th>1593</th>\n",
       "      <td>14740.76</td>\n",
       "      <td>2018-01-02 00:00:00</td>\n",
       "      <td>0.016159</td>\n",
       "      <td>238.195646</td>\n",
       "      <td>0.062450</td>\n",
       "      <td>920.566948</td>\n",
       "      <td>0.000181</td>\n",
       "      <td>2.661149</td>\n",
       "    </tr>\n",
       "    <tr>\n",
       "      <th>1594</th>\n",
       "      <td>15134.65</td>\n",
       "      <td>2018-01-03 00:00:00</td>\n",
       "      <td>0.015590</td>\n",
       "      <td>235.949193</td>\n",
       "      <td>0.063550</td>\n",
       "      <td>961.808067</td>\n",
       "      <td>0.000184</td>\n",
       "      <td>2.777662</td>\n",
       "    </tr>\n",
       "    <tr>\n",
       "      <th>1595</th>\n",
       "      <td>15155.23</td>\n",
       "      <td>2018-01-04 00:00:00</td>\n",
       "      <td>0.014370</td>\n",
       "      <td>217.780655</td>\n",
       "      <td>0.057000</td>\n",
       "      <td>863.848110</td>\n",
       "      <td>0.000148</td>\n",
       "      <td>2.236912</td>\n",
       "    </tr>\n",
       "    <tr>\n",
       "      <th>1596</th>\n",
       "      <td>16937.17</td>\n",
       "      <td>2018-01-05 00:00:00</td>\n",
       "      <td>0.016200</td>\n",
       "      <td>274.385880</td>\n",
       "      <td>0.058500</td>\n",
       "      <td>990.824614</td>\n",
       "      <td>0.000154</td>\n",
       "      <td>2.606800</td>\n",
       "    </tr>\n",
       "    <tr>\n",
       "      <th>1597</th>\n",
       "      <td>17135.84</td>\n",
       "      <td>2018-01-06 00:00:00</td>\n",
       "      <td>0.016725</td>\n",
       "      <td>286.596924</td>\n",
       "      <td>0.069000</td>\n",
       "      <td>1182.372960</td>\n",
       "      <td>0.000170</td>\n",
       "      <td>2.918405</td>\n",
       "    </tr>\n",
       "    <tr>\n",
       "      <th>1598</th>\n",
       "      <td>16178.49</td>\n",
       "      <td>2018-01-07 00:00:00</td>\n",
       "      <td>0.016900</td>\n",
       "      <td>273.419717</td>\n",
       "      <td>0.075600</td>\n",
       "      <td>1223.093844</td>\n",
       "      <td>0.000161</td>\n",
       "      <td>2.596809</td>\n",
       "    </tr>\n",
       "    <tr>\n",
       "      <th>1599</th>\n",
       "      <td>14970.36</td>\n",
       "      <td>2018-01-08 00:00:00</td>\n",
       "      <td>0.016990</td>\n",
       "      <td>254.346416</td>\n",
       "      <td>0.089282</td>\n",
       "      <td>1336.586526</td>\n",
       "      <td>0.000143</td>\n",
       "      <td>2.134175</td>\n",
       "    </tr>\n",
       "  </tbody>\n",
       "</table>\n",
       "</div>"
      ],
      "text/plain": [
       "       BTC_USD                 date   BTC_LTC     LTC_USD   BTC_ETH  \\\n",
       "1589  14427.87  2017-12-29 00:00:00  0.016725  241.306270  0.055030   \n",
       "1590  12629.81  2017-12-30 00:00:00  0.016380  206.877172  0.053493   \n",
       "1591  13860.14  2017-12-31 00:00:00  0.016660  230.912704  0.056167   \n",
       "1592  13412.44  2018-01-01 00:00:00  0.016975  227.681936  0.058369   \n",
       "1593  14740.76  2018-01-02 00:00:00  0.016159  238.195646  0.062450   \n",
       "1594  15134.65  2018-01-03 00:00:00  0.015590  235.949193  0.063550   \n",
       "1595  15155.23  2018-01-04 00:00:00  0.014370  217.780655  0.057000   \n",
       "1596  16937.17  2018-01-05 00:00:00  0.016200  274.385880  0.058500   \n",
       "1597  17135.84  2018-01-06 00:00:00  0.016725  286.596924  0.069000   \n",
       "1598  16178.49  2018-01-07 00:00:00  0.016900  273.419717  0.075600   \n",
       "1599  14970.36  2018-01-08 00:00:00  0.016990  254.346416  0.089282   \n",
       "\n",
       "          ETH_USD   BTC_XRP   XRP_USD  \n",
       "1589   793.965686  0.000148  2.141962  \n",
       "1590   675.606300  0.000143  1.809220  \n",
       "1591   778.476385  0.000152  2.106741  \n",
       "1592   782.874063  0.000149  1.995905  \n",
       "1593   920.566948  0.000181  2.661149  \n",
       "1594   961.808067  0.000184  2.777662  \n",
       "1595   863.848110  0.000148  2.236912  \n",
       "1596   990.824614  0.000154  2.606800  \n",
       "1597  1182.372960  0.000170  2.918405  \n",
       "1598  1223.093844  0.000161  2.596809  \n",
       "1599  1336.586526  0.000143  2.134175  "
      ]
     },
     "execution_count": 16,
     "metadata": {},
     "output_type": "execute_result"
    }
   ],
   "source": [
    "m2.loc[1589:1599]\n"
   ]
  }
 ],
 "metadata": {
  "kernelspec": {
   "display_name": "Python 3",
   "language": "python",
   "name": "python3"
  },
  "language_info": {
   "codemirror_mode": {
    "name": "ipython",
    "version": 3
   },
   "file_extension": ".py",
   "mimetype": "text/x-python",
   "name": "python",
   "nbconvert_exporter": "python",
   "pygments_lexer": "ipython3",
   "version": "3.5.2"
  }
 },
 "nbformat": 4,
 "nbformat_minor": 2
}
